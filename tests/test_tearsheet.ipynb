{
 "cells": [
  {
   "cell_type": "code",
   "execution_count": 1,
   "metadata": {},
   "outputs": [],
   "source": [
    "import importlib as ilib\n",
    "import logging\n",
    "import plotly.offline as plo\n",
    "import time"
   ]
  },
  {
   "cell_type": "code",
   "execution_count": 2,
   "metadata": {},
   "outputs": [
    {
     "ename": "ModuleNotFoundError",
     "evalue": "No module named 'backtrader'",
     "output_type": "error",
     "traceback": [
      "\u001b[0;31m---------------------------------------------------------------------------\u001b[0m",
      "\u001b[0;31mModuleNotFoundError\u001b[0m                       Traceback (most recent call last)",
      "\u001b[1;32m/Users/zacharycoriarty/Desktop/omega_ui/tests/test_tearsheet.ipynb Cell 2\u001b[0m in \u001b[0;36m<cell line: 1>\u001b[0;34m()\u001b[0m\n\u001b[0;32m----> <a href='vscode-notebook-cell:/Users/zacharycoriarty/Desktop/omega_ui/tests/test_tearsheet.ipynb#W1sZmlsZQ%3D%3D?line=0'>1</a>\u001b[0m \u001b[39mimport\u001b[39;00m \u001b[39momega_ui\u001b[39;00m\u001b[39m.\u001b[39;00m\u001b[39mbacktest\u001b[39;00m \u001b[39mas\u001b[39;00m \u001b[39mob\u001b[39;00m\n\u001b[1;32m      <a href='vscode-notebook-cell:/Users/zacharycoriarty/Desktop/omega_ui/tests/test_tearsheet.ipynb#W1sZmlsZQ%3D%3D?line=1'>2</a>\u001b[0m \u001b[39mimport\u001b[39;00m \u001b[39momega_ui\u001b[39;00m\u001b[39m.\u001b[39;00m\u001b[39mtearsheet\u001b[39;00m \u001b[39mas\u001b[39;00m \u001b[39mots\u001b[39;00m\n\u001b[1;32m      <a href='vscode-notebook-cell:/Users/zacharycoriarty/Desktop/omega_ui/tests/test_tearsheet.ipynb#W1sZmlsZQ%3D%3D?line=2'>3</a>\u001b[0m \u001b[39mimport\u001b[39;00m \u001b[39momega_ui\u001b[39;00m\u001b[39m.\u001b[39;00m\u001b[39mtests\u001b[39;00m\u001b[39m.\u001b[39;00m\u001b[39mtest_backtest\u001b[39;00m \u001b[39mas\u001b[39;00m \u001b[39mottb\u001b[39;00m\n",
      "File \u001b[0;32m/usr/local/lib/python3.9/site-packages/omega_ui-0.0.8-py3.9.egg/omega_ui/backtest.py:1\u001b[0m, in \u001b[0;36m<module>\u001b[0;34m\u001b[0m\n\u001b[0;32m----> 1\u001b[0m \u001b[39mimport\u001b[39;00m \u001b[39mbacktrader\u001b[39;00m \u001b[39mas\u001b[39;00m \u001b[39mbt\u001b[39;00m\n\u001b[1;32m      2\u001b[0m \u001b[39mimport\u001b[39;00m \u001b[39mos\u001b[39;00m\n\u001b[1;32m      3\u001b[0m \u001b[39mimport\u001b[39;00m \u001b[39mpandas\u001b[39;00m \u001b[39mas\u001b[39;00m \u001b[39mpd\u001b[39;00m\n",
      "\u001b[0;31mModuleNotFoundError\u001b[0m: No module named 'backtrader'"
     ]
    }
   ],
   "source": [
    "import omega_ui.backtest as ob\n",
    "import omega_ui.tearsheet as ots\n",
    "import test_backtest as ottb\n",
    "\n",
    "plo.init_notebook_mode(connected=True)"
   ]
  },
  {
   "cell_type": "code",
   "execution_count": null,
   "metadata": {},
   "outputs": [],
   "source": [
    "# Disable logging output\n",
    "log = logging.getLogger()\n",
    "log.setLevel(logging.WARNING)"
   ]
  },
  {
   "cell_type": "markdown",
   "metadata": {},
   "source": [
    "# Backtest"
   ]
  },
  {
   "cell_type": "code",
   "execution_count": null,
   "metadata": {},
   "outputs": [],
   "source": [
    "#ilib.reload(ort)\n",
    "start = time.time()\n",
    "btm = ottb.ExampleBacktest()\n",
    "# Parameters\n",
    "symbols = ['TestData']\n",
    "cash = 100000.0\n",
    "# Strategy\n",
    "strategy = ottb.StatsTest\n",
    "pnl, results = btm.run(symbols, cash, strategy)\n",
    "print('Total Profit: {:,.2f}'.format(pnl))\n",
    "print('Backtest - Execution time: {:.0f} seconds!'.format(time.time() - start))"
   ]
  },
  {
   "cell_type": "markdown",
   "metadata": {},
   "source": [
    "## Tearsheet & Statistics"
   ]
  },
  {
   "cell_type": "code",
   "execution_count": null,
   "metadata": {},
   "outputs": [],
   "source": [
    "ilib.reload(ots)\n",
    "ts = ots.create_tearsheet(results, symbols)"
   ]
  },
  {
   "cell_type": "code",
   "execution_count": null,
   "metadata": {},
   "outputs": [],
   "source": [
    "plo.iplot(ts['fig'])"
   ]
  },
  {
   "cell_type": "code",
   "execution_count": null,
   "metadata": {},
   "outputs": [],
   "source": [
    "ts['statistics']"
   ]
  }
 ],
 "metadata": {
  "kernelspec": {
   "display_name": "Python 3.9.12 64-bit",
   "language": "python",
   "name": "python3"
  },
  "language_info": {
   "codemirror_mode": {
    "name": "ipython",
    "version": 3
   },
   "file_extension": ".py",
   "mimetype": "text/x-python",
   "name": "python",
   "nbconvert_exporter": "python",
   "pygments_lexer": "ipython3",
   "version": "3.9.12"
  },
  "vscode": {
   "interpreter": {
    "hash": "aee8b7b246df8f9039afb4144a1f6fd8d2ca17a180786b69acc140d282b71a49"
   }
  }
 },
 "nbformat": 4,
 "nbformat_minor": 2
}
